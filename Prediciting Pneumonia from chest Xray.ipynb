{
 "cells": [
  {
   "cell_type": "markdown",
   "metadata": {
    "_cell_guid": "5ecdc668-7669-4d15-ae38-5fb538185475",
    "_uuid": "f1b7d595b284cb037ceb2c73b5cec2775e9582b4"
   },
   "source": [
    "# Prediciting Pneumonia with the help of transfer Learning\n",
    "This dataset is avilable on Kaggle [here](https://www.kaggle.com/paultimothymooney/chest-xray-pneumonia). The motivation for me here was to implement transfer learning. I was doing a tutorial on it, and thought of using a dataset from kaggle and hence this kernal. \n",
    "\n",
    "I have tried to explain the model and so, if someone thinks of an improvemnt I can try that. I have used Xception model trained on Imagenet as the base model, and implemented transfer learning in Keras with Tensorflow backend. So, lets start with the dataset and then I will move on to the code:\n",
    "\n",
    "Its a binary classification dataset. The two classes are **Normal** and **Pneumonia**.  \n",
    "![Dataset](https://i.imgur.com/jZqpV51.png)\n",
    "\n",
    "\n",
    "This is taken from https://www.kaggle.com/goelrajat/prediciting-pneumonia-from-chest-xray  and run on kaggle kernal. \n"
   ]
  },
  {
   "cell_type": "code",
   "execution_count": null,
   "metadata": {},
   "outputs": [],
   "source": []
  },
  {
   "cell_type": "markdown",
   "metadata": {
    "_cell_guid": "9daf16c4-f634-4b43-b729-3776c5d88033",
    "_uuid": "992a62ca2d83b5bcaeffef066c8006f0d18fed85"
   },
   "source": [
    "## Import statments\n",
    "Not much magic here, just routine libraries"
   ]
  },
  {
   "cell_type": "code",
   "execution_count": 4,
   "metadata": {
    "_cell_guid": "79762e2f-3bac-4a2a-8852-f0148d43e683",
    "_uuid": "371ac0c9576ac149086492d37b42b50d6424f695"
   },
   "outputs": [
    {
     "name": "stdout",
     "output_type": "stream",
     "text": [
      "['chest-xray-pneumonia', 'keras-pretrained-models']\n"
     ]
    }
   ],
   "source": [
    "from keras.models import Sequential\n",
    "from keras.layers import Activation, Dense\n",
    "from keras.optimizers import Adam\n",
    "from keras.preprocessing.image import ImageDataGenerator\n",
    "from keras.applications.xception import Xception, preprocess_input\n",
    "from keras.models import load_model\n",
    "import keras.callbacks as kcall\n",
    "import numpy as np\n",
    "import matplotlib.pyplot as plt\n",
    "\n",
    "# Input data files are available in the \"../input/\" directory.\n",
    "# For example, running this (by clicking run or pressing Shift+Enter) will list the files in the input directory\n",
    "\n",
    "import os\n",
    "print(os.listdir(\"../input\"))\n",
    "\n",
    "# Any results you write to the current directory are saved as output."
   ]
  },
  {
   "cell_type": "markdown",
   "metadata": {
    "_cell_guid": "bcfcdb1b-8a95-43f6-adc6-c03f962b1a9b",
    "_uuid": "4ed0d212ce070149e9e58a0eb5a7cce779bf662e"
   },
   "source": [
    "## Reading the dataset direcotry\n",
    "This is used to understand the dataset distribution. I have also distributed the type of data i.e. training, validation and test for plotting based on class labels. The bash command was taken from [this](https://serverfault.com/a/398682) answer. I tried looping as well but i just couldn't make the code to run. There was some issue with double quotes used in terminal and python returning strings in single quotes.\n",
    "\n",
    "So for below code, yes I understand its naive but I had to finish this kernal in time and hence couldn't \"invest\" more time in this small section."
   ]
  },
  {
   "cell_type": "code",
   "execution_count": 5,
   "metadata": {
    "_cell_guid": "dacddc99-7917-405d-91ca-38e354dfaf13",
    "_uuid": "a93d0ecb6c10253865880d0a8a339b8e2f36c4c3"
   },
   "outputs": [],
   "source": [
    "train_NORMAL    = !find ../input/chest-xray-pneumonia/chest_xray/chest_xray/train/NORMAL/ -type f  -exec file {} \\+ | grep -c -i 'image'\n",
    "train_PNEUMONIA = !find ../input/chest-xray-pneumonia/chest_xray/chest_xray/train/PNEUMONIA/ -type f  -exec file {} \\+ | grep -c -i 'image'\n",
    "val_NORMAL      = !find ../input/chest-xray-pneumonia/chest_xray/chest_xray/val/NORMAL/ -type f  -exec file {} \\+ | grep -c -i 'image'\n",
    "val_PNEUMONIA   = !find ../input/chest-xray-pneumonia/chest_xray/chest_xray/val/PNEUMONIA/ -type f  -exec file {} \\+ | grep -c -i 'image'\n",
    "test_NORMAL     = !find ../input/chest-xray-pneumonia/chest_xray/chest_xray/test/NORMAL/ -type f  -exec file {} \\+ | grep -c -i 'image'\n",
    "test_PNEUMONIA  = !find ../input/chest-xray-pneumonia/chest_xray/chest_xray/test/PNEUMONIA/ -type f  -exec file {} \\+ | grep -c -i 'image'\n",
    "\n",
    "\n",
    "train_data = np.array([int(train_NORMAL[0]),int(train_PNEUMONIA[0])])\n",
    "test_data = np.array([int(test_NORMAL[0]),int(test_PNEUMONIA[0])])\n",
    "val_data = np.array([int(val_NORMAL[0]),int(val_PNEUMONIA[0])])"
   ]
  },
  {
   "cell_type": "markdown",
   "metadata": {
    "_cell_guid": "d293da17-b4aa-4048-9917-4af85f011368",
    "_uuid": "bfb07136b042c29fe2573c725febcb93748162a3"
   },
   "source": [
    "## Plotting the values\n",
    "The data from above, was used in bar graph below. The plot conveys that we have more example of Pneumonia than that of normal scans, which for me was a bit unexpected. I thought it would be reversed.  "
   ]
  },
  {
   "cell_type": "code",
   "execution_count": 6,
   "metadata": {
    "_cell_guid": "f7f55ed6-9433-45af-a034-1053adc83499",
    "_uuid": "0c7ee62abacfaddc7a6cef646153661376c201c0"
   },
   "outputs": [
    {
     "data": {
      "image/png": "[encoded data removed]",
      "text/plain": [
       "<Figure size 432x288 with 1 Axes>"
      ]
     },
     "metadata": {
      "needs_background": "light"
     },
     "output_type": "display_data"
    }
   ],
   "source": [
    "index = np.arange(2)\n",
    "bar_width = 0.25\n",
    "opacity = 0.7\n",
    "\n",
    "rects1 = plt.bar(index, train_data, bar_width,\n",
    "                alpha=opacity, color='b',\n",
    "                label='Train')\n",
    "rects2 = plt.bar(index + bar_width, val_data, bar_width,\n",
    "                alpha=opacity, color='r', tick_label = ('Normal', 'Pneumonia'),\n",
    "                label='Val')\n",
    "rects3 = plt.bar(index + 2*bar_width, test_data, bar_width,\n",
    "                alpha=opacity, color='g', tick_label = ('Normal', 'Pneumonia'),\n",
    "                label='test')\n",
    "\n",
    "plt.xlabel('Class')\n",
    "plt.ylabel('Number of examples')\n",
    "plt.title('Total examples per set')\n",
    "plt.xticks(index + bar_width)\n",
    "plt.legend()\n",
    "\n",
    "plt.show()"
   ]
  },
  {
   "cell_type": "markdown",
   "metadata": {
    "_cell_guid": "25aae750-4720-4926-8cda-8b1f69480af8",
    "_uuid": "457aa512dd0a79a526d67e41619644835ebe2c20"
   },
   "source": [
    "## Parameters\n",
    "- Learning rate was choosen after training the model couple of time. So, no doubts here\n",
    "- image width and height was specified as for the base model. \n",
    "- batch size, I tried a couple but then stick to 30 as either increasing/decreasing it, wasn't helping in reducing accuracy\n",
    "- epochs was choosen  because training accuracy reached saturation of around 99.8% and validation accuracy to 100%\n",
    "- `resume_model` is used when you want to resume from the **compeletly** trained model, i.e. including the last layers inserted by us. "
   ]
  },
  {
   "cell_type": "code",
   "execution_count": 7,
   "metadata": {
    "_cell_guid": "b0a55dc0-bcdf-4832-b6e5-04bc6b7272fa",
    "_uuid": "fbddf81482d60925c7843d6147c3a436355a1088"
   },
   "outputs": [],
   "source": [
    "## Intilizing variables\n",
    "output_classes = 2\n",
    "learning_rate = 0.0001\n",
    "img_width, img_height,channel = 299, 299, 3\n",
    "training_examples = 5216 \n",
    "batch_size = 30 \n",
    "epochs = 5\n",
    "resume_model = False\n",
    "training_data_dir = '../input/chest-xray-pneumonia/chest_xray/chest_xray/train'\n",
    "val_data_dir = '../input/chest-xray-pneumonia/chest_xray/chest_xray/val'\n",
    "test_data_dir = '../input/chest-xray-pneumonia/chest_xray/chest_xray/test'\n",
    "trained_model_dir = '../input/keras-pretrained-models/xception_weights_tf_dim_ordering_tf_kernels_notop.h5'"
   ]
  },
  {
   "cell_type": "markdown",
   "metadata": {
    "_cell_guid": "4ca2ab9e-0afb-4bc0-93d4-1fb02a5493a7",
    "_uuid": "c24e55d02a2201a46a0ef57601e75121e5e2b20b"
   },
   "source": [
    "## Model Defination\n",
    "Using Xception as the base model, and the reason being, it had the best accuracy on imagenet both Top-1 and Top-5 accuracy. The only thing I tried here was using another layer apart from the final layer. The result was not good and so dropped it in the final model. This code will only be executed is `resume_model` is `False`, and its obivious as well. "
   ]
  },
  {
   "cell_type": "code",
   "execution_count": 8,
   "metadata": {
    "_cell_guid": "b978f224-11d2-4738-8a5d-4a0256288819",
    "_uuid": "bf27c2f2759abda33dd1605a61de40db1471ba0f"
   },
   "outputs": [
    {
     "name": "stdout",
     "output_type": "stream",
     "text": [
      "Found 5216 images belonging to 2 classes.\n",
      "Found 16 images belonging to 2 classes.\n",
      "Layer:  1  Name:  xception\n",
      "Layer:  2  Name:  dense_1\n"
     ]
    }
   ],
   "source": [
    "if resume_model == False:\n",
    "  ## Model Defination\n",
    "  model = Sequential()\n",
    "  model.add(Xception(weights=trained_model_dir , include_top=False,pooling = 'avg'))\n",
    "  #model.add(Dense(units = 100 , activation = 'relu'))\n",
    "  model.add(Dense(units=output_classes, activation='softmax'))\n",
    "\n",
    "  model.layers[0].trainable = True\n",
    "\n",
    "  model.compile(loss='categorical_crossentropy',\n",
    "                optimizer=Adam(lr=learning_rate),\n",
    "                metrics=['accuracy'])\n",
    "\n",
    "  ## model.load_weights('xception_weights_tf_dim_ordering_tf_kernels_notop.h5', by_name=True)\n",
    "\n",
    "  ## Image generator function for training and validation\n",
    "  img_generator = ImageDataGenerator(preprocessing_function=preprocess_input)\n",
    "\n",
    "  train_img_generator = img_generator.flow_from_directory(\n",
    "        training_data_dir,\n",
    "        target_size = (img_width,img_height),\n",
    "        batch_size = batch_size,\n",
    "        class_mode = 'categorical')\n",
    "\n",
    "  val_img_generator = img_generator.flow_from_directory(\n",
    "                          val_data_dir,\n",
    "                          target_size = (img_width,img_height),\n",
    "                          class_mode = 'categorical')\n",
    "\n",
    "  for i, layer in enumerate(model.layers):\n",
    "     print('Layer: ',i+1,' Name: ', layer.name)\n"
   ]
  },
  {
   "cell_type": "markdown",
   "metadata": {
    "_uuid": "271be4d8d80a920f4ed4c6921c3c6562523e6963"
   },
   "source": [
    "## CallBacks for model training\n",
    "This was interesting part, and the only requirment for me was the `LossHistory` class. But, I thought why not extend it and use a couple of more callbacks. Now a word of caution, some callbacks increase the training time because they have their own computation, such as tensorboard. I used in on my mac but not here, because it drastically slowed the training and so i was experimenting here with this data and so its clear not to include tensorboard."
   ]
  },
  {
   "cell_type": "code",
   "execution_count": 9,
   "metadata": {
    "_cell_guid": "c7f14a2d-c231-418c-a2df-db7afeaea02a",
    "_uuid": "42732b46173dd8dec566edf4f215bb4ffeb2d470"
   },
   "outputs": [],
   "source": [
    "## Callbacks for model training\n",
    "early_stop = kcall.EarlyStopping(monitor = 'acc', min_delta=0.0001)\n",
    "tensorboard =kcall.TensorBoard(log_dir='./tensorboard-logs',write_grads=1,batch_size = batch_size)\n",
    "\n",
    "class LossHistory(kcall.Callback):\n",
    "    def on_train_begin(self, logs={}):\n",
    "        self.losses = []\n",
    "        self.acc = []\n",
    "\n",
    "    def on_batch_end(self, batch, logs={}):\n",
    "        self.losses.append(logs.get('loss'))\n",
    "        self.acc.append(logs.get('acc'))\n",
    "\n",
    "history = LossHistory()"
   ]
  },
  {
   "cell_type": "markdown",
   "metadata": {
    "_uuid": "adf401ea65519857745566ae0e71f666aa4ee63d"
   },
   "source": [
    "## Model Training\n",
    "I have used generators to provide the images in batches for training, apart from that if you want you can save the model by un-commenting the last line in this block. "
   ]
  },
  {
   "cell_type": "code",
   "execution_count": 10,
   "metadata": {
    "_cell_guid": "e0a47926-1489-4f00-8ad4-0a537e162814",
    "_kg_hide-output": false,
    "_uuid": "075e68011a8b467bb0a8f374ca6cc6b56f0659b0"
   },
   "outputs": [
    {
     "name": "stdout",
     "output_type": "stream",
     "text": [
      "Epoch 1/5\n",
      "173/173 [==============================] - 139s 804ms/step - loss: 0.0986 - accuracy: 0.9649 - val_loss: 0.1515 - val_accuracy: 1.0000\n",
      "Epoch 2/5\n"
     ]
    },
    {
     "name": "stderr",
     "output_type": "stream",
     "text": [
      "/opt/conda/lib/python3.6/site-packages/keras/callbacks/callbacks.py:846: RuntimeWarning: Early stopping conditioned on metric `acc` which is not available. Available metrics are: val_loss,val_accuracy,loss,accuracy\n",
      "  (self.monitor, ','.join(list(logs.keys()))), RuntimeWarning\n"
     ]
    },
    {
     "name": "stdout",
     "output_type": "stream",
     "text": [
      "173/173 [==============================] - 126s 726ms/step - loss: 0.0128 - accuracy: 0.9954 - val_loss: 0.0688 - val_accuracy: 1.0000\n",
      "Epoch 3/5\n",
      "173/173 [==============================] - 126s 726ms/step - loss: 0.0172 - accuracy: 0.9950 - val_loss: 0.0017 - val_accuracy: 1.0000\n",
      "Epoch 4/5\n",
      "173/173 [==============================] - 125s 725ms/step - loss: 0.0062 - accuracy: 0.9987 - val_loss: 0.1222 - val_accuracy: 0.8750\n",
      "Epoch 5/5\n",
      "173/173 [==============================] - 125s 725ms/step - loss: 0.0022 - accuracy: 0.9994 - val_loss: 0.1545 - val_accuracy: 0.9375\n"
     ]
    }
   ],
   "source": [
    "## Training only the newly added layer\n",
    "if resume_model:\n",
    "\tmodel = load_model('chest_xray.h5')\n",
    "else: \n",
    "\tmodel.fit_generator(train_img_generator,\n",
    "        steps_per_epoch = training_examples // batch_size,\n",
    "        epochs = epochs,\n",
    "        validation_data = val_img_generator,\n",
    "\t\tvalidation_steps = 1,\n",
    "\t\tcallbacks=[early_stop,history])\n",
    "\n",
    "\t## saving model\n",
    "\t#model.save('chest_xray.h5')\n"
   ]
  },
  {
   "cell_type": "markdown",
   "metadata": {
    "_uuid": "d7ac832b611f422af2c5002b306a9faf65a40909"
   },
   "source": [
    "## Test image generator\n",
    "Now if you have read, genrative models, then its not actually generating images, rather this function here acts as a pipeline to provide the images as batches for the model evaluation step. \n",
    "- Shuffle here is `False` because I read it somewhere to set it so when evaluating the model\n",
    "- `Batch_size` is same as that used in training the model"
   ]
  },
  {
   "cell_type": "code",
   "execution_count": 11,
   "metadata": {
    "_cell_guid": "9b3304f4-88cb-4927-ae82-36bc84ec7fe6",
    "_uuid": "47174ba29a7850ac2da38a736bd4d7fdb980a3b2"
   },
   "outputs": [
    {
     "name": "stdout",
     "output_type": "stream",
     "text": [
      "Found 624 images belonging to 2 classes.\n"
     ]
    }
   ],
   "source": [
    "## Image generator function for testing\n",
    "test_img_generator = img_generator.flow_from_directory(\n",
    "                        test_data_dir,\n",
    "                        target_size = (img_width,img_height),\n",
    "                        class_mode = 'categorical',\n",
    "                        batch_size= batch_size,\n",
    "\t\t\t                  shuffle = False)"
   ]
  },
  {
   "cell_type": "markdown",
   "metadata": {
    "_uuid": "3db5fb6fb114485f35573d4fa828fb25b828c8ec"
   },
   "source": [
    "## Evaluating the model\n",
    "This step is used to evaluate the model. It takes the image \"generator\" to provide images in batch and if you have question on steps then dont worry its mentioned in Keras documentation."
   ]
  },
  {
   "cell_type": "code",
   "execution_count": 12,
   "metadata": {
    "_cell_guid": "65563448-883d-4653-ab73-e1ce51283346",
    "_uuid": "fc301b42dc7cd855bcd1a85caffca2d323f41c06"
   },
   "outputs": [],
   "source": [
    "test_accu = model.evaluate_generator(test_img_generator,steps=624 // batch_size)"
   ]
  },
  {
   "cell_type": "markdown",
   "metadata": {
    "_uuid": "e32ba8018ac3d525b7d1a70c6185d0d6371a1253"
   },
   "source": [
    "## Declaring results\n",
    "- Loss on Test data  \n",
    "- Accuracy on Test data"
   ]
  },
  {
   "cell_type": "code",
   "execution_count": 13,
   "metadata": {
    "_cell_guid": "a67f7ab8-a9f1-40c6-913f-d7e29af7e870",
    "_uuid": "7d0019628a9b2055274d6f1c29a471cf9db5ab04"
   },
   "outputs": [
    {
     "name": "stdout",
     "output_type": "stream",
     "text": [
      "Accuracy on test data is: 0.7933333516120911\n",
      "Loss on test data is: 7.671802450204268e-05\n"
     ]
    }
   ],
   "source": [
    "print('Accuracy on test data is:', test_accu[1])\n",
    "print('Loss on test data is:', test_accu[0])"
   ]
  },
  {
   "cell_type": "markdown",
   "metadata": {
    "_cell_guid": "04908350-75ca-4f9d-863f-2cb9535f9234",
    "_uuid": "036fe62857699dd6a34b1f6db46da9ed5061dd82"
   },
   "source": [
    "## Data Visualisation\n",
    "Below are 2 plots, namely Training loss vs batches trained and the other one is trainng accuracy vs batches trained. I am new to platform and to machine learning as well, so these are only two plots which came to my mind."
   ]
  },
  {
   "cell_type": "code",
   "execution_count": 14,
   "metadata": {
    "_cell_guid": "a6e4d5e0-7b78-467f-aba1-2ff36e76c43e",
    "_uuid": "c801c7c8689cbf8963b88a3391db039d69ab9450"
   },
   "outputs": [
    {
     "data": {
      "image/png": "[encoded data removed]",
      "text/plain": [
       "<Figure size 432x288 with 1 Axes>"
      ]
     },
     "metadata": {
      "needs_background": "light"
     },
     "output_type": "display_data"
    }
   ],
   "source": [
    "plt.plot(history.losses,'b--',label='Training')\n",
    "plt.plot(len(history.losses)-1,test_accu[0],'go',label = 'Test')\n",
    "\n",
    "plt.xlabel('# of batches trained')\n",
    "plt.ylabel('Training loss')\n",
    "\n",
    "plt.title('Training loss vs batches trained')\n",
    "\n",
    "plt.legend()\n",
    "\n",
    "plt.ylim(0,1.2)\n",
    "plt.show()"
   ]
  },
  {
   "cell_type": "code",
   "execution_count": 15,
   "metadata": {
    "_cell_guid": "d20ae952-37a1-47f3-a1a6-529a27f106ea",
    "_kg_hide-output": false,
    "_uuid": "4c8ee4b8386ab15e15b81cafcfd71282133928ce",
    "scrolled": true
   },
   "outputs": [
    {
     "data": {
      "image/png": "[encoded data removed]",
      "text/plain": [
       "<Figure size 432x288 with 1 Axes>"
      ]
     },
     "metadata": {
      "needs_background": "light"
     },
     "output_type": "display_data"
    }
   ],
   "source": [
    "plt.plot(history.acc,'--',label= 'Training')\n",
    "plt.plot(len(history.acc)-1,test_accu[1],'go',label='Test')\n",
    "\n",
    "plt.xlabel('# of batches trained')\n",
    "plt.ylabel('Training accuracy')\n",
    "\n",
    "plt.title('Training accuracy vs batches trained')\n",
    "\n",
    "plt.legend(loc=4)\n",
    "plt.ylim(0,1.1)\n",
    "plt.show()"
   ]
  },
  {
   "cell_type": "markdown",
   "metadata": {
    "_cell_guid": "9401d4ae-17a1-45d8-b797-59b9e266aaf0",
    "_uuid": "c9c6fb0f9896f39f0a434753639867f00f70311d"
   },
   "source": [
    "\n"
   ]
  }
 ],
 "metadata": {
  "kernelspec": {
   "display_name": "Python 3",
   "language": "python",
   "name": "python3"
  },
  "language_info": {
   "codemirror_mode": {
    "name": "ipython",
    "version": 3
   },
   "file_extension": ".py",
   "mimetype": "text/x-python",
   "name": "python",
   "nbconvert_exporter": "python",
   "pygments_lexer": "ipython3",
   "version": "3.7.3"
  }
 },
 "nbformat": 4,
 "nbformat_minor": 1
}
